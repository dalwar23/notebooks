{
 "cells": [
  {
   "cell_type": "markdown",
   "metadata": {},
   "source": [
    "# Community Detection - Louvain Method\n",
    "Detecting community structures with louvain method. Using [python-louvain](https://github.com/taynaud/python-louvain) \n",
    "\n",
    "> python-package name defers while importing: import community\n",
    "\n",
    "### Reference\n",
    "The method was first published in: [Fast unfolding of communities in large networks](http://arxiv.org/abs/0803.0476), Vincent D Blondel, Jean-Loup Guillaume, Renaud Lambiotte, Etienne Lefebvre, Journal of Statistical Mechanics: Theory and Experiment 2008 (10), P1000\n",
    "\n",
    "### Note\n",
    "Required python packages (Can be acquired through pip)\n",
    "- python-louvain\n",
    "- networkx\n",
    "- pandas"
   ]
  },
  {
   "cell_type": "code",
   "execution_count": 1,
   "metadata": {},
   "outputs": [],
   "source": [
    "# Import python libraries\n",
    "import community\n",
    "import networkx as nx\n",
    "import pandas as pd"
   ]
  },
  {
   "cell_type": "code",
   "execution_count": 2,
   "metadata": {},
   "outputs": [],
   "source": [
    "# Locate dataset\n",
    "dataset = '~/Datasets/Social_Networks/karate_club.txt'"
   ]
  },
  {
   "cell_type": "code",
   "execution_count": 3,
   "metadata": {},
   "outputs": [],
   "source": [
    "# Create networkx graph from the dataset\n",
    "graph = nx.read_edgelist(dataset, nodetype=int)"
   ]
  },
  {
   "cell_type": "code",
   "execution_count": 4,
   "metadata": {},
   "outputs": [],
   "source": [
    "# Find community structures in the graph with louvain method\n",
    "# community.best_partition returns a python dictionary {node:cluster}\n",
    "louvain_communities = community.best_partition(graph)"
   ]
  },
  {
   "cell_type": "code",
   "execution_count": 5,
   "metadata": {},
   "outputs": [
    {
     "data": {
      "text/plain": [
       "{1: 0,\n",
       " 2: 0,\n",
       " 3: 0,\n",
       " 4: 0,\n",
       " 5: 1,\n",
       " 6: 1,\n",
       " 7: 1,\n",
       " 8: 0,\n",
       " 9: 2,\n",
       " 10: 0,\n",
       " 11: 1,\n",
       " 12: 0,\n",
       " 13: 0,\n",
       " 14: 0,\n",
       " 15: 2,\n",
       " 16: 2,\n",
       " 17: 1,\n",
       " 18: 0,\n",
       " 19: 2,\n",
       " 20: 0,\n",
       " 21: 2,\n",
       " 22: 0,\n",
       " 23: 2,\n",
       " 24: 3,\n",
       " 25: 3,\n",
       " 26: 3,\n",
       " 27: 2,\n",
       " 28: 3,\n",
       " 29: 3,\n",
       " 30: 2,\n",
       " 31: 2,\n",
       " 32: 3,\n",
       " 33: 2,\n",
       " 34: 2}"
      ]
     },
     "execution_count": 5,
     "metadata": {},
     "output_type": "execute_result"
    }
   ],
   "source": [
    "# Take a look at the communities\n",
    "louvain_communities"
   ]
  },
  {
   "cell_type": "code",
   "execution_count": 6,
   "metadata": {},
   "outputs": [],
   "source": [
    "# Create pandas dataframe for efficient handling of detected community structures\n",
    "comm = pd.DataFrame(louvain_communities.items(), columns=['node', 'cluster'], dtype=int)"
   ]
  },
  {
   "cell_type": "code",
   "execution_count": 7,
   "metadata": {},
   "outputs": [],
   "source": [
    "# Create list of nodes depeding on their communities\n",
    "groups = comm.groupby('cluster')['node'].apply(list)"
   ]
  },
  {
   "cell_type": "code",
   "execution_count": 9,
   "metadata": {},
   "outputs": [
    {
     "name": "stdout",
     "output_type": "stream",
     "text": [
      "[1, 2, 3, 4, 8, 10, 12, 13, 14, 18, 20, 22]:12\n",
      "[5, 6, 7, 11, 17]:5\n",
      "[9, 15, 16, 19, 21, 23, 27, 30, 31, 33, 34]:11\n",
      "[24, 25, 26, 28, 29, 32]:6\n"
     ]
    }
   ],
   "source": [
    "# Print communities\n",
    "for grp in groups:\n",
    "    if len(grp)>1:  # Discard any community with only one node\n",
    "        print('{}:{}'.format(grp, len(grp)))  # [nodes in a community]:[size of the community]"
   ]
  }
 ],
 "metadata": {
  "kernelspec": {
   "display_name": "Python 2",
   "language": "python",
   "name": "python2"
  },
  "language_info": {
   "codemirror_mode": {
    "name": "ipython",
    "version": 2
   },
   "file_extension": ".py",
   "mimetype": "text/x-python",
   "name": "python",
   "nbconvert_exporter": "python",
   "pygments_lexer": "ipython2",
   "version": "2.7.15rc1"
  }
 },
 "nbformat": 4,
 "nbformat_minor": 2
}
